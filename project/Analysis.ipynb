{
 "cells": [
  {
   "cell_type": "code",
   "execution_count": 2,
   "metadata": {},
   "outputs": [],
   "source": [
    "import pandas as pd\n",
    "import numpy as np\n",
    "from datetime import datetime as dt\n",
    "import os\n",
    "import glob\n",
    "import matplotlib.pyplot as plt\n",
    "import seaborn as sns\n",
    "import mpld3\n",
    "import re\n",
    "import math\n",
    "from scipy.spatial import Voronoi, voronoi_plot_2d\n",
    "from matplotlib.patches import Polygon, Patch\n",
    "import matplotlib.image as mpimg\n",
    "from matplotlib.ticker import ScalarFormatter\n",
    "import matplotlib.dates as mdates"
   ]
  },
  {
   "cell_type": "code",
   "execution_count": 16,
   "metadata": {},
   "outputs": [],
   "source": [
    "# These are the \"Tableau 20\" colors as RGB.    \n",
    "tableau20 = [(31, 119, 180), (174, 199, 232), (255, 127, 14), (255, 187, 120),    \n",
    "             (44, 160, 44), (152, 223, 138), (214, 39, 40), (255, 152, 150),    \n",
    "             (148, 103, 189), (197, 176, 213), (140, 86, 75), (196, 156, 148),    \n",
    "             (227, 119, 194), (247, 182, 210), (127, 127, 127), (199, 199, 199),    \n",
    "             (188, 189, 34), (219, 219, 141), (23, 190, 207), (158, 218, 229)]    \n",
    "  \n",
    "# Scale the RGB values to the [0, 1] range, which is the format matplotlib accepts.    \n",
    "for i in range(len(tableau20)):    \n",
    "    r, g, b = tableau20[i]    \n",
    "    tableau20[i] = (r / 255., g / 255., b / 255.)\n",
    "\n",
    "color = tableau20"
   ]
  },
  {
   "cell_type": "code",
   "execution_count": 17,
   "metadata": {},
   "outputs": [],
   "source": [
    "# allFiles = glob.glob(os.path.join(\"..\",\"interpolatedData\",\"*\",\"*.csv\"))\n",
    "\n",
    "# df = {}\n",
    "# for x in allFiles:\n",
    "#     name = '_'.join(x.split(os.path.sep)[1:]).split('.')[0]\n",
    "#     df[name] = pd.read_csv(x,parse_dates=[0])\n",
    "\n",
    "# mergedDataFilesDp03 = glob.glob(os.path.join(\"..\",\"..\",\"mergedData\",\"Dp03\",\"*.csv\"))\n",
    "# mergedDataDp03 = {(route.split(\"Data_\")[1].split(\".\")[0]):pd.read_csv(route,parse_dates=[0]) for route in mergedDataFilesDp03}\n",
    "# mergedDataFilesPM25 = glob.glob(os.path.join(\"..\",\"..\",\"mergedData\",\"PM25_Std\",\"*.csv\"))\n",
    "# mergedDataPM25 = {(route.split(\"Data_\")[1].split(\".\")[0]):pd.read_csv(route,parse_dates=[0]) for route in mergedDataFilesPM25}\n",
    "\n",
    "\n",
    "# plt.rcParams.update({'font.size': 26})"
   ]
  }
 ],
 "metadata": {
  "kernelspec": {
   "display_name": "Python 3",
   "language": "python",
   "name": "python3"
  },
  "language_info": {
   "codemirror_mode": {
    "name": "ipython",
    "version": 3
   },
   "file_extension": ".py",
   "mimetype": "text/x-python",
   "name": "python",
   "nbconvert_exporter": "python",
   "pygments_lexer": "ipython3",
   "version": "3.8.3"
  },
  "orig_nbformat": 2
 },
 "nbformat": 4,
 "nbformat_minor": 2
}
